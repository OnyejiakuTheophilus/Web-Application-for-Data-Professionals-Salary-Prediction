{
 "cells": [
  {
   "cell_type": "code",
   "execution_count": 3,
   "id": "b71eaefe",
   "metadata": {},
   "outputs": [],
   "source": [
    "import pandas as pd\n",
    "import matplotlib.pyplot as plt\n",
    "import numpy  as np\n",
    "import seaborn as sns\n",
    "sns.set_style(\"darkgrid\")\n"
   ]
  },
  {
   "cell_type": "code",
   "execution_count": 4,
   "id": "42e22929",
   "metadata": {},
   "outputs": [
    {
     "data": {
      "text/html": [
       "<div>\n",
       "<style scoped>\n",
       "    .dataframe tbody tr th:only-of-type {\n",
       "        vertical-align: middle;\n",
       "    }\n",
       "\n",
       "    .dataframe tbody tr th {\n",
       "        vertical-align: top;\n",
       "    }\n",
       "\n",
       "    .dataframe thead th {\n",
       "        text-align: right;\n",
       "    }\n",
       "</style>\n",
       "<table border=\"1\" class=\"dataframe\">\n",
       "  <thead>\n",
       "    <tr style=\"text-align: right;\">\n",
       "      <th></th>\n",
       "      <th>Unnamed: 0</th>\n",
       "      <th>work_year</th>\n",
       "      <th>experience_level</th>\n",
       "      <th>employment_type</th>\n",
       "      <th>job_title</th>\n",
       "      <th>salary</th>\n",
       "      <th>salary_currency</th>\n",
       "      <th>salary_in_usd</th>\n",
       "      <th>employee_residence</th>\n",
       "      <th>remote_ratio</th>\n",
       "      <th>company_location</th>\n",
       "      <th>company_size</th>\n",
       "    </tr>\n",
       "  </thead>\n",
       "  <tbody>\n",
       "    <tr>\n",
       "      <th>0</th>\n",
       "      <td>0</td>\n",
       "      <td>2020</td>\n",
       "      <td>MI</td>\n",
       "      <td>FT</td>\n",
       "      <td>Data Scientist</td>\n",
       "      <td>70000</td>\n",
       "      <td>EUR</td>\n",
       "      <td>79833</td>\n",
       "      <td>DE</td>\n",
       "      <td>0</td>\n",
       "      <td>DE</td>\n",
       "      <td>L</td>\n",
       "    </tr>\n",
       "    <tr>\n",
       "      <th>1</th>\n",
       "      <td>1</td>\n",
       "      <td>2020</td>\n",
       "      <td>SE</td>\n",
       "      <td>FT</td>\n",
       "      <td>Machine Learning Scientist</td>\n",
       "      <td>260000</td>\n",
       "      <td>USD</td>\n",
       "      <td>260000</td>\n",
       "      <td>JP</td>\n",
       "      <td>0</td>\n",
       "      <td>JP</td>\n",
       "      <td>S</td>\n",
       "    </tr>\n",
       "  </tbody>\n",
       "</table>\n",
       "</div>"
      ],
      "text/plain": [
       "   Unnamed: 0  work_year experience_level employment_type  \\\n",
       "0           0       2020               MI              FT   \n",
       "1           1       2020               SE              FT   \n",
       "\n",
       "                    job_title  salary salary_currency  salary_in_usd  \\\n",
       "0              Data Scientist   70000             EUR          79833   \n",
       "1  Machine Learning Scientist  260000             USD         260000   \n",
       "\n",
       "  employee_residence  remote_ratio company_location company_size  \n",
       "0                 DE             0               DE            L  \n",
       "1                 JP             0               JP            S  "
      ]
     },
     "execution_count": 4,
     "metadata": {},
     "output_type": "execute_result"
    }
   ],
   "source": [
    "df = pd.read_csv(\"ds_salaries.csv\")\n",
    "df.head(2)"
   ]
  },
  {
   "cell_type": "code",
   "execution_count": 5,
   "id": "d572b467",
   "metadata": {},
   "outputs": [
    {
     "data": {
      "text/plain": [
       "Unnamed: 0            0\n",
       "work_year             0\n",
       "experience_level      0\n",
       "employment_type       0\n",
       "job_title             0\n",
       "salary                0\n",
       "salary_currency       0\n",
       "salary_in_usd         0\n",
       "employee_residence    0\n",
       "remote_ratio          0\n",
       "company_location      0\n",
       "company_size          0\n",
       "dtype: int64"
      ]
     },
     "execution_count": 5,
     "metadata": {},
     "output_type": "execute_result"
    }
   ],
   "source": [
    "df.isna().sum()"
   ]
  },
  {
   "cell_type": "code",
   "execution_count": 6,
   "id": "519bb2a2",
   "metadata": {},
   "outputs": [
    {
     "data": {
      "text/plain": [
       "0"
      ]
     },
     "execution_count": 6,
     "metadata": {},
     "output_type": "execute_result"
    }
   ],
   "source": [
    "df.duplicated().sum()"
   ]
  },
  {
   "cell_type": "code",
   "execution_count": 7,
   "id": "5e47eeeb",
   "metadata": {},
   "outputs": [],
   "source": [
    "df.drop(columns=\"Unnamed: 0\", axis=1, inplace=True)"
   ]
  },
  {
   "cell_type": "code",
   "execution_count": 8,
   "id": "47265b3e",
   "metadata": {},
   "outputs": [
    {
     "data": {
      "text/html": [
       "<div>\n",
       "<style scoped>\n",
       "    .dataframe tbody tr th:only-of-type {\n",
       "        vertical-align: middle;\n",
       "    }\n",
       "\n",
       "    .dataframe tbody tr th {\n",
       "        vertical-align: top;\n",
       "    }\n",
       "\n",
       "    .dataframe thead th {\n",
       "        text-align: right;\n",
       "    }\n",
       "</style>\n",
       "<table border=\"1\" class=\"dataframe\">\n",
       "  <thead>\n",
       "    <tr style=\"text-align: right;\">\n",
       "      <th></th>\n",
       "      <th>work_year</th>\n",
       "      <th>experience_level</th>\n",
       "      <th>employment_type</th>\n",
       "      <th>job_title</th>\n",
       "      <th>salary</th>\n",
       "      <th>salary_currency</th>\n",
       "      <th>salary_in_usd</th>\n",
       "      <th>employee_residence</th>\n",
       "      <th>remote_ratio</th>\n",
       "      <th>company_location</th>\n",
       "      <th>company_size</th>\n",
       "    </tr>\n",
       "  </thead>\n",
       "  <tbody>\n",
       "    <tr>\n",
       "      <th>0</th>\n",
       "      <td>2020</td>\n",
       "      <td>MI</td>\n",
       "      <td>FT</td>\n",
       "      <td>Data Scientist</td>\n",
       "      <td>70000</td>\n",
       "      <td>EUR</td>\n",
       "      <td>79833</td>\n",
       "      <td>DE</td>\n",
       "      <td>0</td>\n",
       "      <td>DE</td>\n",
       "      <td>L</td>\n",
       "    </tr>\n",
       "    <tr>\n",
       "      <th>1</th>\n",
       "      <td>2020</td>\n",
       "      <td>SE</td>\n",
       "      <td>FT</td>\n",
       "      <td>Machine Learning Scientist</td>\n",
       "      <td>260000</td>\n",
       "      <td>USD</td>\n",
       "      <td>260000</td>\n",
       "      <td>JP</td>\n",
       "      <td>0</td>\n",
       "      <td>JP</td>\n",
       "      <td>S</td>\n",
       "    </tr>\n",
       "  </tbody>\n",
       "</table>\n",
       "</div>"
      ],
      "text/plain": [
       "   work_year experience_level employment_type                   job_title  \\\n",
       "0       2020               MI              FT              Data Scientist   \n",
       "1       2020               SE              FT  Machine Learning Scientist   \n",
       "\n",
       "   salary salary_currency  salary_in_usd employee_residence  remote_ratio  \\\n",
       "0   70000             EUR          79833                 DE             0   \n",
       "1  260000             USD         260000                 JP             0   \n",
       "\n",
       "  company_location company_size  \n",
       "0               DE            L  \n",
       "1               JP            S  "
      ]
     },
     "execution_count": 8,
     "metadata": {},
     "output_type": "execute_result"
    }
   ],
   "source": [
    "df.head(2)"
   ]
  },
  {
   "cell_type": "code",
   "execution_count": 9,
   "id": "451c11dc",
   "metadata": {},
   "outputs": [
    {
     "name": "stdout",
     "output_type": "stream",
     "text": [
      "<class 'pandas.core.frame.DataFrame'>\n",
      "RangeIndex: 607 entries, 0 to 606\n",
      "Data columns (total 11 columns):\n",
      " #   Column              Non-Null Count  Dtype \n",
      "---  ------              --------------  ----- \n",
      " 0   work_year           607 non-null    int64 \n",
      " 1   experience_level    607 non-null    object\n",
      " 2   employment_type     607 non-null    object\n",
      " 3   job_title           607 non-null    object\n",
      " 4   salary              607 non-null    int64 \n",
      " 5   salary_currency     607 non-null    object\n",
      " 6   salary_in_usd       607 non-null    int64 \n",
      " 7   employee_residence  607 non-null    object\n",
      " 8   remote_ratio        607 non-null    int64 \n",
      " 9   company_location    607 non-null    object\n",
      " 10  company_size        607 non-null    object\n",
      "dtypes: int64(4), object(7)\n",
      "memory usage: 52.3+ KB\n"
     ]
    }
   ],
   "source": [
    "df.info()"
   ]
  },
  {
   "cell_type": "code",
   "execution_count": 10,
   "id": "70946c21",
   "metadata": {},
   "outputs": [
    {
     "data": {
      "text/plain": [
       "Index(['work_year', 'experience_level', 'employment_type', 'job_title',\n",
       "       'salary', 'salary_currency', 'salary_in_usd', 'employee_residence',\n",
       "       'remote_ratio', 'company_location', 'company_size'],\n",
       "      dtype='object')"
      ]
     },
     "execution_count": 10,
     "metadata": {},
     "output_type": "execute_result"
    }
   ],
   "source": [
    "df.columns"
   ]
  },
  {
   "cell_type": "code",
   "execution_count": 11,
   "id": "1135a894",
   "metadata": {},
   "outputs": [
    {
     "data": {
      "text/html": [
       "<div>\n",
       "<style scoped>\n",
       "    .dataframe tbody tr th:only-of-type {\n",
       "        vertical-align: middle;\n",
       "    }\n",
       "\n",
       "    .dataframe tbody tr th {\n",
       "        vertical-align: top;\n",
       "    }\n",
       "\n",
       "    .dataframe thead th {\n",
       "        text-align: right;\n",
       "    }\n",
       "</style>\n",
       "<table border=\"1\" class=\"dataframe\">\n",
       "  <thead>\n",
       "    <tr style=\"text-align: right;\">\n",
       "      <th></th>\n",
       "      <th>experience_level</th>\n",
       "      <th>employment_type</th>\n",
       "      <th>salary_in_usd</th>\n",
       "      <th>employee_residence</th>\n",
       "      <th>company_location</th>\n",
       "      <th>company_size</th>\n",
       "    </tr>\n",
       "  </thead>\n",
       "  <tbody>\n",
       "    <tr>\n",
       "      <th>0</th>\n",
       "      <td>MI</td>\n",
       "      <td>FT</td>\n",
       "      <td>79833</td>\n",
       "      <td>DE</td>\n",
       "      <td>DE</td>\n",
       "      <td>L</td>\n",
       "    </tr>\n",
       "    <tr>\n",
       "      <th>1</th>\n",
       "      <td>SE</td>\n",
       "      <td>FT</td>\n",
       "      <td>260000</td>\n",
       "      <td>JP</td>\n",
       "      <td>JP</td>\n",
       "      <td>S</td>\n",
       "    </tr>\n",
       "  </tbody>\n",
       "</table>\n",
       "</div>"
      ],
      "text/plain": [
       "  experience_level employment_type  salary_in_usd employee_residence  \\\n",
       "0               MI              FT          79833                 DE   \n",
       "1               SE              FT         260000                 JP   \n",
       "\n",
       "  company_location company_size  \n",
       "0               DE            L  \n",
       "1               JP            S  "
      ]
     },
     "execution_count": 11,
     "metadata": {},
     "output_type": "execute_result"
    }
   ],
   "source": [
    "y = ['experience_level', 'employment_type','salary_in_usd', 'employee_residence', 'company_location', 'company_size']\n",
    "df=df[y]\n",
    "df.head(2)"
   ]
  },
  {
   "cell_type": "code",
   "execution_count": 12,
   "id": "b4d3594d",
   "metadata": {},
   "outputs": [
    {
     "data": {
      "text/plain": [
       "US    332\n",
       "GB     44\n",
       "IN     30\n",
       "CA     29\n",
       "DE     25\n",
       "Name: employee_residence, dtype: int64"
      ]
     },
     "execution_count": 12,
     "metadata": {},
     "output_type": "execute_result"
    }
   ],
   "source": [
    "df[\"employee_residence\"].value_counts().head()"
   ]
  },
  {
   "cell_type": "code",
   "execution_count": 13,
   "id": "24a928c4",
   "metadata": {},
   "outputs": [],
   "source": [
    "def reduce_residence(col, length):\n",
    "    categories_length={}\n",
    "    for i in range(len(col)):\n",
    "        if col.values[i]>=length:\n",
    "            categories_length[col.index[i]] = col.index[i]\n",
    "        else:\n",
    "            categories_length[col.index[i]] = \"others\"\n",
    "    return categories_length"
   ]
  },
  {
   "cell_type": "code",
   "execution_count": 14,
   "id": "883e374f",
   "metadata": {},
   "outputs": [],
   "source": [
    "reduced_residence = reduce_residence(df.employee_residence.value_counts(), 10)\n",
    "df[\"employee_residence\"] = df[\"employee_residence\"].map(reduced_residence)"
   ]
  },
  {
   "cell_type": "code",
   "execution_count": 15,
   "id": "9d4d9f27",
   "metadata": {},
   "outputs": [
    {
     "data": {
      "text/html": [
       "<div>\n",
       "<style scoped>\n",
       "    .dataframe tbody tr th:only-of-type {\n",
       "        vertical-align: middle;\n",
       "    }\n",
       "\n",
       "    .dataframe tbody tr th {\n",
       "        vertical-align: top;\n",
       "    }\n",
       "\n",
       "    .dataframe thead th {\n",
       "        text-align: right;\n",
       "    }\n",
       "</style>\n",
       "<table border=\"1\" class=\"dataframe\">\n",
       "  <thead>\n",
       "    <tr style=\"text-align: right;\">\n",
       "      <th></th>\n",
       "      <th>experience_level</th>\n",
       "      <th>employment_type</th>\n",
       "      <th>salary_in_usd</th>\n",
       "      <th>employee_residence</th>\n",
       "      <th>company_location</th>\n",
       "      <th>company_size</th>\n",
       "    </tr>\n",
       "  </thead>\n",
       "  <tbody>\n",
       "    <tr>\n",
       "      <th>0</th>\n",
       "      <td>MI</td>\n",
       "      <td>FT</td>\n",
       "      <td>79833</td>\n",
       "      <td>DE</td>\n",
       "      <td>DE</td>\n",
       "      <td>L</td>\n",
       "    </tr>\n",
       "    <tr>\n",
       "      <th>1</th>\n",
       "      <td>SE</td>\n",
       "      <td>FT</td>\n",
       "      <td>260000</td>\n",
       "      <td>others</td>\n",
       "      <td>JP</td>\n",
       "      <td>S</td>\n",
       "    </tr>\n",
       "  </tbody>\n",
       "</table>\n",
       "</div>"
      ],
      "text/plain": [
       "  experience_level employment_type  salary_in_usd employee_residence  \\\n",
       "0               MI              FT          79833                 DE   \n",
       "1               SE              FT         260000             others   \n",
       "\n",
       "  company_location company_size  \n",
       "0               DE            L  \n",
       "1               JP            S  "
      ]
     },
     "execution_count": 15,
     "metadata": {},
     "output_type": "execute_result"
    }
   ],
   "source": [
    "df.head(2)"
   ]
  },
  {
   "cell_type": "code",
   "execution_count": 16,
   "id": "ac424099",
   "metadata": {},
   "outputs": [
    {
     "data": {
      "text/plain": [
       "US        332\n",
       "others    101\n",
       "GB         44\n",
       "IN         30\n",
       "CA         29\n",
       "DE         25\n",
       "FR         18\n",
       "ES         15\n",
       "GR         13\n",
       "Name: employee_residence, dtype: int64"
      ]
     },
     "execution_count": 16,
     "metadata": {},
     "output_type": "execute_result"
    }
   ],
   "source": [
    "df[\"employee_residence\"].value_counts()"
   ]
  },
  {
   "cell_type": "code",
   "execution_count": 17,
   "id": "1d929dc0",
   "metadata": {},
   "outputs": [],
   "source": [
    "df[\"employee_residence\"].replace({\"US\": \"United States\", \n",
    "                                   \"GB\":\"Great Britain\", \n",
    "                                   'IN': \"India\", \n",
    "                                   \"CA\":\"Canada\", \n",
    "                                   \"DE\":\"Germany\",\n",
    "                                   \"FR\":\"France\",\n",
    "                                  \"ES\":\"Spain\",\n",
    "                                  \"GR\": \"Greece\"}, inplace=True)"
   ]
  },
  {
   "cell_type": "code",
   "execution_count": 18,
   "id": "d3709522",
   "metadata": {
    "scrolled": true
   },
   "outputs": [
    {
     "data": {
      "text/plain": [
       "United States    332\n",
       "others           101\n",
       "Great Britain     44\n",
       "India             30\n",
       "Canada            29\n",
       "Germany           25\n",
       "France            18\n",
       "Spain             15\n",
       "Greece            13\n",
       "Name: employee_residence, dtype: int64"
      ]
     },
     "execution_count": 18,
     "metadata": {},
     "output_type": "execute_result"
    }
   ],
   "source": [
    "df[\"employee_residence\"].value_counts()"
   ]
  },
  {
   "cell_type": "code",
   "execution_count": 19,
   "id": "76af7b1b",
   "metadata": {},
   "outputs": [
    {
     "name": "stdout",
     "output_type": "stream",
     "text": [
      "<class 'pandas.core.frame.DataFrame'>\n",
      "RangeIndex: 607 entries, 0 to 606\n",
      "Data columns (total 6 columns):\n",
      " #   Column              Non-Null Count  Dtype \n",
      "---  ------              --------------  ----- \n",
      " 0   experience_level    607 non-null    object\n",
      " 1   employment_type     607 non-null    object\n",
      " 2   salary_in_usd       607 non-null    int64 \n",
      " 3   employee_residence  607 non-null    object\n",
      " 4   company_location    607 non-null    object\n",
      " 5   company_size        607 non-null    object\n",
      "dtypes: int64(1), object(5)\n",
      "memory usage: 28.6+ KB\n"
     ]
    }
   ],
   "source": [
    "df.info()"
   ]
  },
  {
   "cell_type": "code",
   "execution_count": 20,
   "id": "e2e3049d",
   "metadata": {},
   "outputs": [
    {
     "data": {
      "text/plain": [
       "US    355\n",
       "GB     47\n",
       "CA     30\n",
       "DE     28\n",
       "IN     24\n",
       "FR     15\n",
       "ES     14\n",
       "GR     11\n",
       "JP      6\n",
       "NL      4\n",
       "AT      4\n",
       "PL      4\n",
       "PT      4\n",
       "BR      3\n",
       "LU      3\n",
       "PK      3\n",
       "TR      3\n",
       "DK      3\n",
       "MX      3\n",
       "AE      3\n",
       "AU      3\n",
       "CZ      2\n",
       "SI      2\n",
       "BE      2\n",
       "CH      2\n",
       "CN      2\n",
       "RU      2\n",
       "IT      2\n",
       "NG      2\n",
       "HN      1\n",
       "CL      1\n",
       "HU      1\n",
       "VN      1\n",
       "IE      1\n",
       "IL      1\n",
       "AS      1\n",
       "CO      1\n",
       "MY      1\n",
       "IQ      1\n",
       "UA      1\n",
       "IR      1\n",
       "MT      1\n",
       "NZ      1\n",
       "RO      1\n",
       "MD      1\n",
       "EE      1\n",
       "DZ      1\n",
       "SG      1\n",
       "KE      1\n",
       "HR      1\n",
       "Name: company_location, dtype: int64"
      ]
     },
     "execution_count": 20,
     "metadata": {},
     "output_type": "execute_result"
    }
   ],
   "source": [
    "df.company_location.value_counts()"
   ]
  },
  {
   "cell_type": "code",
   "execution_count": 21,
   "id": "3699439c",
   "metadata": {},
   "outputs": [],
   "source": [
    "reduced_location = reduce_residence(df.company_location.value_counts(), 10)"
   ]
  },
  {
   "cell_type": "code",
   "execution_count": 22,
   "id": "e53d523f",
   "metadata": {},
   "outputs": [],
   "source": [
    "df[\"company_location\"] = df[\"company_location\"].map(reduced_location)"
   ]
  },
  {
   "cell_type": "code",
   "execution_count": 23,
   "id": "d7211cf0",
   "metadata": {},
   "outputs": [
    {
     "data": {
      "text/plain": [
       "US        355\n",
       "others     83\n",
       "GB         47\n",
       "CA         30\n",
       "DE         28\n",
       "IN         24\n",
       "FR         15\n",
       "ES         14\n",
       "GR         11\n",
       "Name: company_location, dtype: int64"
      ]
     },
     "execution_count": 23,
     "metadata": {},
     "output_type": "execute_result"
    }
   ],
   "source": [
    "df[\"company_location\"].value_counts()"
   ]
  },
  {
   "cell_type": "code",
   "execution_count": 24,
   "id": "0e5baf2d",
   "metadata": {},
   "outputs": [],
   "source": [
    "df[\"company_location\"].replace({\"US\": \"United States\", \n",
    "                                   \"GB\":\"Great Britain\", \n",
    "                                   'IN': \"India\", \n",
    "                                   \"CA\":\"Canada\", \n",
    "                                   \"DE\":\"Germany\",\n",
    "                                   \"FR\":\"France\",\n",
    "                                  \"ES\":\"Spain\",\n",
    "                                  \"GR\": \"Greece\"}, inplace=True)"
   ]
  },
  {
   "cell_type": "code",
   "execution_count": 25,
   "id": "5b1d8247",
   "metadata": {},
   "outputs": [
    {
     "data": {
      "text/plain": [
       "United States    355\n",
       "others            83\n",
       "Great Britain     47\n",
       "Canada            30\n",
       "Germany           28\n",
       "India             24\n",
       "France            15\n",
       "Spain             14\n",
       "Greece            11\n",
       "Name: company_location, dtype: int64"
      ]
     },
     "execution_count": 25,
     "metadata": {},
     "output_type": "execute_result"
    }
   ],
   "source": [
    "df[\"company_location\"].value_counts()"
   ]
  },
  {
   "cell_type": "code",
   "execution_count": 26,
   "id": "3609809a",
   "metadata": {},
   "outputs": [
    {
     "name": "stdout",
     "output_type": "stream",
     "text": [
      "<class 'pandas.core.frame.DataFrame'>\n",
      "RangeIndex: 607 entries, 0 to 606\n",
      "Data columns (total 6 columns):\n",
      " #   Column              Non-Null Count  Dtype \n",
      "---  ------              --------------  ----- \n",
      " 0   experience_level    607 non-null    object\n",
      " 1   employment_type     607 non-null    object\n",
      " 2   salary_in_usd       607 non-null    int64 \n",
      " 3   employee_residence  607 non-null    object\n",
      " 4   company_location    607 non-null    object\n",
      " 5   company_size        607 non-null    object\n",
      "dtypes: int64(1), object(5)\n",
      "memory usage: 28.6+ KB\n"
     ]
    }
   ],
   "source": [
    "df.info()"
   ]
  },
  {
   "cell_type": "code",
   "execution_count": 27,
   "id": "98b10299",
   "metadata": {},
   "outputs": [
    {
     "data": {
      "text/plain": [
       "SE    280\n",
       "MI    213\n",
       "EN     88\n",
       "EX     26\n",
       "Name: experience_level, dtype: int64"
      ]
     },
     "execution_count": 27,
     "metadata": {},
     "output_type": "execute_result"
    }
   ],
   "source": [
    "df.experience_level.value_counts()"
   ]
  },
  {
   "cell_type": "code",
   "execution_count": 28,
   "id": "65857042",
   "metadata": {},
   "outputs": [],
   "source": [
    "df[\"experience_level\"].replace({\"SE\": \"Senior Level\", \n",
    "                                   \"MI\":\"Mid level\", \n",
    "                                   'EN': \"Entry Level\", \n",
    "                                   \"EX\":\"Executive\"}, inplace=True)"
   ]
  },
  {
   "cell_type": "code",
   "execution_count": 29,
   "id": "1d93a780",
   "metadata": {},
   "outputs": [
    {
     "data": {
      "text/plain": [
       "Senior Level    280\n",
       "Mid level       213\n",
       "Entry Level      88\n",
       "Executive        26\n",
       "Name: experience_level, dtype: int64"
      ]
     },
     "execution_count": 29,
     "metadata": {},
     "output_type": "execute_result"
    }
   ],
   "source": [
    "df.experience_level.value_counts()"
   ]
  },
  {
   "cell_type": "code",
   "execution_count": 30,
   "id": "29699fe6",
   "metadata": {},
   "outputs": [
    {
     "data": {
      "text/plain": [
       "FT    588\n",
       "PT     10\n",
       "CT      5\n",
       "FL      4\n",
       "Name: employment_type, dtype: int64"
      ]
     },
     "execution_count": 30,
     "metadata": {},
     "output_type": "execute_result"
    }
   ],
   "source": [
    "df.employment_type.value_counts()"
   ]
  },
  {
   "cell_type": "code",
   "execution_count": 31,
   "id": "198d066b",
   "metadata": {},
   "outputs": [],
   "source": [
    "df[\"employment_type\"].replace({\"FT\": \"Full Time\", \n",
    "                                   \"PT\":\"Part Time\", \n",
    "                                   'CT': \"Contract Type\", \n",
    "                                   \"FL\":\"Freelance\"}, inplace=True)"
   ]
  },
  {
   "cell_type": "code",
   "execution_count": 32,
   "id": "69c38bee",
   "metadata": {},
   "outputs": [
    {
     "data": {
      "text/plain": [
       "Full Time        588\n",
       "Part Time         10\n",
       "Contract Type      5\n",
       "Freelance          4\n",
       "Name: employment_type, dtype: int64"
      ]
     },
     "execution_count": 32,
     "metadata": {},
     "output_type": "execute_result"
    }
   ],
   "source": [
    "df.employment_type.value_counts()"
   ]
  },
  {
   "cell_type": "code",
   "execution_count": 33,
   "id": "4648fa0c",
   "metadata": {},
   "outputs": [
    {
     "data": {
      "text/plain": [
       "M    326\n",
       "L    198\n",
       "S     83\n",
       "Name: company_size, dtype: int64"
      ]
     },
     "execution_count": 33,
     "metadata": {},
     "output_type": "execute_result"
    }
   ],
   "source": [
    "df.company_size.value_counts()"
   ]
  },
  {
   "cell_type": "code",
   "execution_count": 34,
   "id": "3d5d4139",
   "metadata": {},
   "outputs": [],
   "source": [
    "df[\"company_size\"].replace({\"M\": \"Medium Size\", \n",
    "                                   \"L\":\"Large\", \n",
    "                                   'S': \"Small\"}, inplace=True)"
   ]
  },
  {
   "cell_type": "code",
   "execution_count": 35,
   "id": "f571b095",
   "metadata": {},
   "outputs": [
    {
     "data": {
      "text/plain": [
       "Medium Size    326\n",
       "Large          198\n",
       "Small           83\n",
       "Name: company_size, dtype: int64"
      ]
     },
     "execution_count": 35,
     "metadata": {},
     "output_type": "execute_result"
    }
   ],
   "source": [
    "df.company_size.value_counts()"
   ]
  },
  {
   "cell_type": "code",
   "execution_count": 36,
   "id": "0a3ea97c",
   "metadata": {},
   "outputs": [
    {
     "data": {
      "text/html": [
       "<div>\n",
       "<style scoped>\n",
       "    .dataframe tbody tr th:only-of-type {\n",
       "        vertical-align: middle;\n",
       "    }\n",
       "\n",
       "    .dataframe tbody tr th {\n",
       "        vertical-align: top;\n",
       "    }\n",
       "\n",
       "    .dataframe thead th {\n",
       "        text-align: right;\n",
       "    }\n",
       "</style>\n",
       "<table border=\"1\" class=\"dataframe\">\n",
       "  <thead>\n",
       "    <tr style=\"text-align: right;\">\n",
       "      <th></th>\n",
       "      <th>experience_level</th>\n",
       "      <th>employment_type</th>\n",
       "      <th>salary_in_usd</th>\n",
       "      <th>employee_residence</th>\n",
       "      <th>company_location</th>\n",
       "      <th>company_size</th>\n",
       "    </tr>\n",
       "  </thead>\n",
       "  <tbody>\n",
       "    <tr>\n",
       "      <th>0</th>\n",
       "      <td>Mid level</td>\n",
       "      <td>Full Time</td>\n",
       "      <td>79833</td>\n",
       "      <td>Germany</td>\n",
       "      <td>Germany</td>\n",
       "      <td>Large</td>\n",
       "    </tr>\n",
       "    <tr>\n",
       "      <th>1</th>\n",
       "      <td>Senior Level</td>\n",
       "      <td>Full Time</td>\n",
       "      <td>260000</td>\n",
       "      <td>others</td>\n",
       "      <td>others</td>\n",
       "      <td>Small</td>\n",
       "    </tr>\n",
       "    <tr>\n",
       "      <th>2</th>\n",
       "      <td>Senior Level</td>\n",
       "      <td>Full Time</td>\n",
       "      <td>109024</td>\n",
       "      <td>Great Britain</td>\n",
       "      <td>Great Britain</td>\n",
       "      <td>Medium Size</td>\n",
       "    </tr>\n",
       "    <tr>\n",
       "      <th>3</th>\n",
       "      <td>Mid level</td>\n",
       "      <td>Full Time</td>\n",
       "      <td>20000</td>\n",
       "      <td>others</td>\n",
       "      <td>others</td>\n",
       "      <td>Small</td>\n",
       "    </tr>\n",
       "    <tr>\n",
       "      <th>4</th>\n",
       "      <td>Senior Level</td>\n",
       "      <td>Full Time</td>\n",
       "      <td>150000</td>\n",
       "      <td>United States</td>\n",
       "      <td>United States</td>\n",
       "      <td>Large</td>\n",
       "    </tr>\n",
       "  </tbody>\n",
       "</table>\n",
       "</div>"
      ],
      "text/plain": [
       "  experience_level employment_type  salary_in_usd employee_residence  \\\n",
       "0        Mid level       Full Time          79833            Germany   \n",
       "1     Senior Level       Full Time         260000             others   \n",
       "2     Senior Level       Full Time         109024      Great Britain   \n",
       "3        Mid level       Full Time          20000             others   \n",
       "4     Senior Level       Full Time         150000      United States   \n",
       "\n",
       "  company_location company_size  \n",
       "0          Germany        Large  \n",
       "1           others        Small  \n",
       "2    Great Britain  Medium Size  \n",
       "3           others        Small  \n",
       "4    United States        Large  "
      ]
     },
     "execution_count": 36,
     "metadata": {},
     "output_type": "execute_result"
    }
   ],
   "source": [
    "df.head()"
   ]
  },
  {
   "cell_type": "code",
   "execution_count": 37,
   "id": "1481ff03",
   "metadata": {},
   "outputs": [],
   "source": [
    "X = df.drop(columns=\"salary_in_usd\")\n",
    "y = df.salary_in_usd"
   ]
  },
  {
   "cell_type": "code",
   "execution_count": 38,
   "id": "a46d1fa7",
   "metadata": {},
   "outputs": [
    {
     "data": {
      "text/html": [
       "<div>\n",
       "<style scoped>\n",
       "    .dataframe tbody tr th:only-of-type {\n",
       "        vertical-align: middle;\n",
       "    }\n",
       "\n",
       "    .dataframe tbody tr th {\n",
       "        vertical-align: top;\n",
       "    }\n",
       "\n",
       "    .dataframe thead th {\n",
       "        text-align: right;\n",
       "    }\n",
       "</style>\n",
       "<table border=\"1\" class=\"dataframe\">\n",
       "  <thead>\n",
       "    <tr style=\"text-align: right;\">\n",
       "      <th></th>\n",
       "      <th>experience_level</th>\n",
       "      <th>employment_type</th>\n",
       "      <th>employee_residence</th>\n",
       "      <th>company_location</th>\n",
       "      <th>company_size</th>\n",
       "    </tr>\n",
       "  </thead>\n",
       "  <tbody>\n",
       "    <tr>\n",
       "      <th>0</th>\n",
       "      <td>Mid level</td>\n",
       "      <td>Full Time</td>\n",
       "      <td>Germany</td>\n",
       "      <td>Germany</td>\n",
       "      <td>Large</td>\n",
       "    </tr>\n",
       "    <tr>\n",
       "      <th>1</th>\n",
       "      <td>Senior Level</td>\n",
       "      <td>Full Time</td>\n",
       "      <td>others</td>\n",
       "      <td>others</td>\n",
       "      <td>Small</td>\n",
       "    </tr>\n",
       "    <tr>\n",
       "      <th>2</th>\n",
       "      <td>Senior Level</td>\n",
       "      <td>Full Time</td>\n",
       "      <td>Great Britain</td>\n",
       "      <td>Great Britain</td>\n",
       "      <td>Medium Size</td>\n",
       "    </tr>\n",
       "    <tr>\n",
       "      <th>3</th>\n",
       "      <td>Mid level</td>\n",
       "      <td>Full Time</td>\n",
       "      <td>others</td>\n",
       "      <td>others</td>\n",
       "      <td>Small</td>\n",
       "    </tr>\n",
       "    <tr>\n",
       "      <th>4</th>\n",
       "      <td>Senior Level</td>\n",
       "      <td>Full Time</td>\n",
       "      <td>United States</td>\n",
       "      <td>United States</td>\n",
       "      <td>Large</td>\n",
       "    </tr>\n",
       "  </tbody>\n",
       "</table>\n",
       "</div>"
      ],
      "text/plain": [
       "  experience_level employment_type employee_residence company_location  \\\n",
       "0        Mid level       Full Time            Germany          Germany   \n",
       "1     Senior Level       Full Time             others           others   \n",
       "2     Senior Level       Full Time      Great Britain    Great Britain   \n",
       "3        Mid level       Full Time             others           others   \n",
       "4     Senior Level       Full Time      United States    United States   \n",
       "\n",
       "  company_size  \n",
       "0        Large  \n",
       "1        Small  \n",
       "2  Medium Size  \n",
       "3        Small  \n",
       "4        Large  "
      ]
     },
     "execution_count": 38,
     "metadata": {},
     "output_type": "execute_result"
    }
   ],
   "source": [
    "X.head()"
   ]
  },
  {
   "cell_type": "code",
   "execution_count": 39,
   "id": "2cd7d8f6",
   "metadata": {
    "scrolled": false
   },
   "outputs": [
    {
     "data": {
      "text/plain": [
       "0     79833\n",
       "1    260000\n",
       "2    109024\n",
       "3     20000\n",
       "4    150000\n",
       "Name: salary_in_usd, dtype: int64"
      ]
     },
     "execution_count": 39,
     "metadata": {},
     "output_type": "execute_result"
    }
   ],
   "source": [
    "y.head()"
   ]
  },
  {
   "cell_type": "code",
   "execution_count": 40,
   "id": "a09ed741",
   "metadata": {},
   "outputs": [],
   "source": [
    "from sklearn.preprocessing import OneHotEncoder\n",
    "from sklearn.compose import ColumnTransformer\n",
    "from sklearn.compose import make_column_transformer\n",
    "from sklearn.pipeline import Pipeline\n",
    "from sklearn.pipeline import make_pipeline\n",
    "from sklearn.linear_model import LinearRegression\n",
    "from sklearn.linear_model import LassoCV\n",
    "from sklearn.linear_model import RidgeCV\n",
    "from sklearn.ensemble import RandomForestRegressor\n",
    "from sklearn.tree import DecisionTreeRegressor\n",
    "from sklearn.metrics import mean_squared_error, mean_absolute_error\n",
    "from sklearn.model_selection import cross_val_score"
   ]
  },
  {
   "cell_type": "code",
   "execution_count": 41,
   "id": "fb49bae2",
   "metadata": {},
   "outputs": [
    {
     "data": {
      "text/plain": [
       "Index(['experience_level', 'employment_type', 'employee_residence',\n",
       "       'company_location', 'company_size'],\n",
       "      dtype='object')"
      ]
     },
     "execution_count": 41,
     "metadata": {},
     "output_type": "execute_result"
    }
   ],
   "source": [
    "X.columns"
   ]
  },
  {
   "cell_type": "code",
   "execution_count": 42,
   "id": "4aa54729",
   "metadata": {},
   "outputs": [],
   "source": [
    "transform_columns = make_column_transformer((OneHotEncoder(), ['experience_level', \n",
    "                                                               'employment_type', \n",
    "                                                               'employee_residence',\n",
    "                                                               'company_location', \n",
    "                                                               'company_size']))"
   ]
  },
  {
   "cell_type": "code",
   "execution_count": 43,
   "id": "143148c3",
   "metadata": {},
   "outputs": [
    {
     "data": {
      "text/plain": [
       "<607x29 sparse matrix of type '<class 'numpy.float64'>'\n",
       "\twith 3035 stored elements in Compressed Sparse Row format>"
      ]
     },
     "execution_count": 43,
     "metadata": {},
     "output_type": "execute_result"
    }
   ],
   "source": [
    "transform_columns.fit_transform(X)"
   ]
  },
  {
   "cell_type": "code",
   "execution_count": 44,
   "id": "ee69f26d",
   "metadata": {},
   "outputs": [],
   "source": [
    "model_1 = LinearRegression()\n",
    "model_2 = LassoCV()\n",
    "model_3 = RidgeCV()\n",
    "model_4 = RandomForestRegressor()\n",
    "model_5 = DecisionTreeRegressor()"
   ]
  },
  {
   "cell_type": "code",
   "execution_count": 45,
   "id": "65dcf175",
   "metadata": {},
   "outputs": [],
   "source": [
    "my_pipeline_1 = make_pipeline(transform_columns, model_1)\n",
    "my_pipeline_2 = make_pipeline(transform_columns, model_2)\n",
    "my_pipeline_3 = make_pipeline(transform_columns, model_3)\n",
    "my_pipeline_4 = make_pipeline(transform_columns, model_4)\n",
    "my_pipeline_5 = make_pipeline(transform_columns, model_5)"
   ]
  },
  {
   "cell_type": "code",
   "execution_count": 46,
   "id": "dae3f808",
   "metadata": {},
   "outputs": [],
   "source": [
    "cv_1 = -1 * cross_val_score(my_pipeline_1, X, y, cv=5, scoring=\"neg_mean_absolute_error\").mean()\n",
    "cv_2 = -1 * cross_val_score(my_pipeline_2, X, y, cv=5, scoring=\"neg_mean_absolute_error\").mean()\n",
    "cv_3 = -1 * cross_val_score(my_pipeline_3, X, y, cv=5, scoring=\"neg_mean_absolute_error\").mean()\n",
    "cv_4 = -1 * cross_val_score(my_pipeline_4, X, y, cv=5, scoring=\"neg_mean_absolute_error\").mean()\n",
    "cv_5 = -1 * cross_val_score(my_pipeline_5, X, y, cv=5, scoring=\"neg_mean_absolute_error\").mean()"
   ]
  },
  {
   "cell_type": "code",
   "execution_count": 47,
   "id": "93dbb146",
   "metadata": {},
   "outputs": [
    {
     "name": "stdout",
     "output_type": "stream",
     "text": [
      "Linear Regression: 36742.62147403757\n",
      "\n",
      "LassoCV:36370.24574013852\n",
      "\n",
      "RidgeCV: 36444.01376731368\n",
      "\n",
      "RandomForest: 35892.114564245545\n",
      "\n",
      "DecisionTree: 36844.09680237786\n"
     ]
    }
   ],
   "source": [
    "print(f\"Linear Regression: {cv_1}\")\n",
    "print(f\"\\nLassoCV:{cv_2}\")\n",
    "print(f\"\\nRidgeCV: {cv_3}\")\n",
    "print(f\"\\nRandomForest: {cv_4}\")\n",
    "print(f\"\\nDecisionTree: {cv_5}\")"
   ]
  },
  {
   "cell_type": "code",
   "execution_count": 48,
   "id": "7002edb0",
   "metadata": {
    "scrolled": true
   },
   "outputs": [
    {
     "data": {
      "text/plain": [
       "Pipeline(steps=[('columntransformer',\n",
       "                 ColumnTransformer(transformers=[('onehotencoder',\n",
       "                                                  OneHotEncoder(),\n",
       "                                                  ['experience_level',\n",
       "                                                   'employment_type',\n",
       "                                                   'employee_residence',\n",
       "                                                   'company_location',\n",
       "                                                   'company_size'])])),\n",
       "                ('randomforestregressor', RandomForestRegressor())])"
      ]
     },
     "execution_count": 48,
     "metadata": {},
     "output_type": "execute_result"
    }
   ],
   "source": [
    "my_pipeline_4.fit(X, y)"
   ]
  },
  {
   "cell_type": "code",
   "execution_count": 49,
   "id": "179081a7",
   "metadata": {},
   "outputs": [
    {
     "data": {
      "text/plain": [
       "Pipeline(steps=[('columntransformer',\n",
       "                 ColumnTransformer(transformers=[('onehotencoder',\n",
       "                                                  OneHotEncoder(),\n",
       "                                                  ['experience_level',\n",
       "                                                   'employment_type',\n",
       "                                                   'employee_residence',\n",
       "                                                   'company_location',\n",
       "                                                   'company_size'])])),\n",
       "                ('decisiontreeregressor', DecisionTreeRegressor())])"
      ]
     },
     "execution_count": 49,
     "metadata": {},
     "output_type": "execute_result"
    }
   ],
   "source": [
    "my_pipeline_1.fit(X,y)\n",
    "my_pipeline_2.fit(X,y)\n",
    "my_pipeline_3.fit(X,y)\n",
    "my_pipeline_5.fit(X,y)"
   ]
  },
  {
   "cell_type": "code",
   "execution_count": 50,
   "id": "0448d9f6",
   "metadata": {},
   "outputs": [
    {
     "data": {
      "text/html": [
       "<div>\n",
       "<style scoped>\n",
       "    .dataframe tbody tr th:only-of-type {\n",
       "        vertical-align: middle;\n",
       "    }\n",
       "\n",
       "    .dataframe tbody tr th {\n",
       "        vertical-align: top;\n",
       "    }\n",
       "\n",
       "    .dataframe thead th {\n",
       "        text-align: right;\n",
       "    }\n",
       "</style>\n",
       "<table border=\"1\" class=\"dataframe\">\n",
       "  <thead>\n",
       "    <tr style=\"text-align: right;\">\n",
       "      <th></th>\n",
       "      <th>experience_level</th>\n",
       "      <th>employment_type</th>\n",
       "      <th>employee_residence</th>\n",
       "      <th>company_location</th>\n",
       "      <th>company_size</th>\n",
       "    </tr>\n",
       "  </thead>\n",
       "  <tbody>\n",
       "    <tr>\n",
       "      <th>177</th>\n",
       "      <td>Mid level</td>\n",
       "      <td>Full Time</td>\n",
       "      <td>others</td>\n",
       "      <td>others</td>\n",
       "      <td>Large</td>\n",
       "    </tr>\n",
       "    <tr>\n",
       "      <th>3</th>\n",
       "      <td>Mid level</td>\n",
       "      <td>Full Time</td>\n",
       "      <td>others</td>\n",
       "      <td>others</td>\n",
       "      <td>Small</td>\n",
       "    </tr>\n",
       "    <tr>\n",
       "      <th>10</th>\n",
       "      <td>Entry Level</td>\n",
       "      <td>Full Time</td>\n",
       "      <td>France</td>\n",
       "      <td>France</td>\n",
       "      <td>Small</td>\n",
       "    </tr>\n",
       "    <tr>\n",
       "      <th>48</th>\n",
       "      <td>Mid level</td>\n",
       "      <td>Full Time</td>\n",
       "      <td>United States</td>\n",
       "      <td>United States</td>\n",
       "      <td>Large</td>\n",
       "    </tr>\n",
       "    <tr>\n",
       "      <th>64</th>\n",
       "      <td>Senior Level</td>\n",
       "      <td>Full Time</td>\n",
       "      <td>others</td>\n",
       "      <td>others</td>\n",
       "      <td>Small</td>\n",
       "    </tr>\n",
       "  </tbody>\n",
       "</table>\n",
       "</div>"
      ],
      "text/plain": [
       "    experience_level employment_type employee_residence company_location  \\\n",
       "177        Mid level       Full Time             others           others   \n",
       "3          Mid level       Full Time             others           others   \n",
       "10       Entry Level       Full Time             France           France   \n",
       "48         Mid level       Full Time      United States    United States   \n",
       "64      Senior Level       Full Time             others           others   \n",
       "\n",
       "    company_size  \n",
       "177        Large  \n",
       "3          Small  \n",
       "10         Small  \n",
       "48         Large  \n",
       "64         Small  "
      ]
     },
     "execution_count": 50,
     "metadata": {},
     "output_type": "execute_result"
    }
   ],
   "source": [
    "X_new = X.sample(5, random_state=99)\n",
    "X_new"
   ]
  },
  {
   "cell_type": "code",
   "execution_count": 51,
   "id": "24788cf0",
   "metadata": {},
   "outputs": [
    {
     "data": {
      "text/plain": [
       "array([ 56689.87489969,  39404.32489866,  51127.30967857, 138051.92623471,\n",
       "       107962.89822203])"
      ]
     },
     "execution_count": 51,
     "metadata": {},
     "output_type": "execute_result"
    }
   ],
   "source": [
    "my_pipeline_4.predict(X_new)"
   ]
  },
  {
   "cell_type": "code",
   "execution_count": 52,
   "id": "d05650e7",
   "metadata": {},
   "outputs": [
    {
     "data": {
      "text/html": [
       "<div>\n",
       "<style scoped>\n",
       "    .dataframe tbody tr th:only-of-type {\n",
       "        vertical-align: middle;\n",
       "    }\n",
       "\n",
       "    .dataframe tbody tr th {\n",
       "        vertical-align: top;\n",
       "    }\n",
       "\n",
       "    .dataframe thead th {\n",
       "        text-align: right;\n",
       "    }\n",
       "</style>\n",
       "<table border=\"1\" class=\"dataframe\">\n",
       "  <thead>\n",
       "    <tr style=\"text-align: right;\">\n",
       "      <th></th>\n",
       "      <th>experience_level</th>\n",
       "      <th>employment_type</th>\n",
       "      <th>employee_residence</th>\n",
       "      <th>company_location</th>\n",
       "      <th>company_size</th>\n",
       "    </tr>\n",
       "  </thead>\n",
       "  <tbody>\n",
       "    <tr>\n",
       "      <th>0</th>\n",
       "      <td>Senior Level</td>\n",
       "      <td>Full Time</td>\n",
       "      <td>United States</td>\n",
       "      <td>United States</td>\n",
       "      <td>Large</td>\n",
       "    </tr>\n",
       "  </tbody>\n",
       "</table>\n",
       "</div>"
      ],
      "text/plain": [
       "  experience_level employment_type employee_residence company_location  \\\n",
       "0     Senior Level       Full Time      United States    United States   \n",
       "\n",
       "  company_size  \n",
       "0        Large  "
      ]
     },
     "execution_count": 52,
     "metadata": {},
     "output_type": "execute_result"
    }
   ],
   "source": [
    "my_columns = ['experience_level', 'employment_type', 'employee_residence',\n",
    "       'company_location', 'company_size']\n",
    "a = np.array([[\"Senior Level\",\"Full Time\",\"United States\", \"United States\", \"Large\"]])\n",
    "a = pd.DataFrame(a, columns = my_columns)\n",
    "a"
   ]
  },
  {
   "cell_type": "code",
   "execution_count": 53,
   "id": "57fabc61",
   "metadata": {},
   "outputs": [],
   "source": [
    "model_1 = my_pipeline_1\n",
    "model_2 = my_pipeline_2\n",
    "model_3 = my_pipeline_3\n",
    "model_4 = my_pipeline_4\n",
    "model_5 = my_pipeline_5"
   ]
  },
  {
   "cell_type": "code",
   "execution_count": 54,
   "id": "3b327464",
   "metadata": {},
   "outputs": [
    {
     "data": {
      "text/plain": [
       "array([187371.16541381])"
      ]
     },
     "execution_count": 54,
     "metadata": {},
     "output_type": "execute_result"
    }
   ],
   "source": [
    "my_pipeline_4.predict(a)"
   ]
  },
  {
   "cell_type": "code",
   "execution_count": 55,
   "id": "7a5cd183",
   "metadata": {},
   "outputs": [
    {
     "data": {
      "text/plain": [
       "array([169160.84005872])"
      ]
     },
     "execution_count": 55,
     "metadata": {},
     "output_type": "execute_result"
    }
   ],
   "source": [
    "model_1.predict(a)"
   ]
  },
  {
   "cell_type": "code",
   "execution_count": 56,
   "id": "23086f08",
   "metadata": {},
   "outputs": [],
   "source": [
    "import pickle"
   ]
  },
  {
   "cell_type": "code",
   "execution_count": 57,
   "id": "4d148daa",
   "metadata": {},
   "outputs": [],
   "source": [
    "data = {\"model_1\":model_1, \"model_2\":model_2, \"model_3\":model_3, \"model_4\":model_4, \"model_5\":model_5, \"columns\": my_columns}\n",
    "with open(\"data science prediction.pki\", \"wb\") as file:\n",
    "    pickle.dump(data, file)"
   ]
  },
  {
   "cell_type": "code",
   "execution_count": 58,
   "id": "06aeed69",
   "metadata": {},
   "outputs": [],
   "source": [
    "with open(\"data science prediction.pki\", \"rb\") as file:\n",
    "    data = pickle.load(file)\n",
    "\n",
    "model_1_prediction= data[\"model_1\"]\n",
    "model_2_prediction = data[\"model_2\"]\n",
    "model_3_prediction = data[\"model_3\"]\n",
    "model_4_predicton = data[\"model_4\"]\n",
    "model_5_prediction = data[\"model_5\"]\n",
    "\n",
    "my_column = data[\"columns\"]\n"
   ]
  },
  {
   "cell_type": "code",
   "execution_count": 59,
   "id": "4e0c9ed2",
   "metadata": {},
   "outputs": [
    {
     "data": {
      "text/plain": [
       "array([187371.16541381])"
      ]
     },
     "execution_count": 59,
     "metadata": {},
     "output_type": "execute_result"
    }
   ],
   "source": [
    "model_4_predicton.predict(a)"
   ]
  },
  {
   "cell_type": "code",
   "execution_count": null,
   "id": "236b03f2",
   "metadata": {},
   "outputs": [],
   "source": []
  },
  {
   "cell_type": "code",
   "execution_count": null,
   "id": "d764085a",
   "metadata": {},
   "outputs": [],
   "source": []
  }
 ],
 "metadata": {
  "kernelspec": {
   "display_name": "Python 3",
   "language": "python",
   "name": "python3"
  },
  "language_info": {
   "codemirror_mode": {
    "name": "ipython",
    "version": 3
   },
   "file_extension": ".py",
   "mimetype": "text/x-python",
   "name": "python",
   "nbconvert_exporter": "python",
   "pygments_lexer": "ipython3",
   "version": "3.8.8"
  }
 },
 "nbformat": 4,
 "nbformat_minor": 5
}
